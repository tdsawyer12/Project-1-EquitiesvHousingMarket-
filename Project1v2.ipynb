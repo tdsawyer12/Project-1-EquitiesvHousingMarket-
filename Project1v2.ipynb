{
 "cells": [
  {
   "cell_type": "code",
   "execution_count": 1,
   "metadata": {},
   "outputs": [
    {
     "ename": "ModuleNotFoundError",
     "evalue": "No module named 'panel'",
     "output_type": "error",
     "traceback": [
      "\u001b[1;31m---------------------------------------------------------------------------\u001b[0m",
      "\u001b[1;31mModuleNotFoundError\u001b[0m                       Traceback (most recent call last)",
      "\u001b[1;32m<ipython-input-1-7f388e4f4c27>\u001b[0m in \u001b[0;36m<module>\u001b[1;34m\u001b[0m\n\u001b[1;32m----> 1\u001b[1;33m \u001b[1;32mimport\u001b[0m \u001b[0mpanel\u001b[0m \u001b[1;32mas\u001b[0m \u001b[0mpn\u001b[0m\u001b[1;33m\u001b[0m\u001b[1;33m\u001b[0m\u001b[0m\n\u001b[0m\u001b[0;32m      2\u001b[0m \u001b[1;32mimport\u001b[0m \u001b[0mos\u001b[0m\u001b[1;33m\u001b[0m\u001b[1;33m\u001b[0m\u001b[0m\n\u001b[0;32m      3\u001b[0m \u001b[1;32mimport\u001b[0m \u001b[0mpandas\u001b[0m \u001b[1;32mas\u001b[0m \u001b[0mpd\u001b[0m\u001b[1;33m\u001b[0m\u001b[1;33m\u001b[0m\u001b[0m\n\u001b[0;32m      4\u001b[0m \u001b[1;32mimport\u001b[0m \u001b[0mmatplotlib\u001b[0m\u001b[1;33m.\u001b[0m\u001b[0mpyplot\u001b[0m \u001b[1;32mas\u001b[0m \u001b[0mplt\u001b[0m\u001b[1;33m\u001b[0m\u001b[1;33m\u001b[0m\u001b[0m\n\u001b[0;32m      5\u001b[0m \u001b[1;32mimport\u001b[0m \u001b[0mhvplot\u001b[0m\u001b[1;33m.\u001b[0m\u001b[0mpandas\u001b[0m\u001b[1;33m\u001b[0m\u001b[1;33m\u001b[0m\u001b[0m\n",
      "\u001b[1;31mModuleNotFoundError\u001b[0m: No module named 'panel'"
     ]
    }
   ],
   "source": [
    "import panel as pn\n",
    "import os\n",
    "import pandas as pd\n",
    "import matplotlib.pyplot as plt\n",
    "import hvplot.pandas\n",
    "import panel as pn\n",
    "import plotly.express as px\n",
    "from dotenv import load_dotenv\n",
    "from panel.interact import interact\n",
    "import requests\n",
    "import numpy as np\n",
    "import alpaca_trade_api as tradeapi\n",
    "pn.extension('plotly')\n",
    "%matplotlib inline"
   ]
  },
  {
   "cell_type": "code",
   "execution_count": null,
   "metadata": {},
   "outputs": [],
   "source": [
    "cities = ['PHXRNSA','ATXRSA','BOXRSA','NYXRSA','DAXRSA','SEXRNSA','CHXRSA','MIXRNSA','POXRSA','CEXRSA','WDXRSA','DNXRSA', 'CSUSHPISA']\n",
    "dfs = []\n",
    "for city in cities:\n",
    "    city_url = f\"https://fred.stlouisfed.org/graph/fredgraph.csv?bgcolor=%23e1e9f0&chart_type=line&drp=0&fo=open%20sans&graph_bgcolor=%23ffffff&height=450&mode=fred&recession_bars=on&txtcolor=%23444444&ts=12&tts=12&width=1168&nt=0&thu=0&trc=0&show_legend=yes&show_axis_titles=yes&show_tooltip=yes&id={city}&scale=left&cosd=2010-01-01&coed=2020-05-01&line_color=%234572a7&link_values=false&line_style=solid&mark_type=none&mw=3&lw=2&ost=-99999&oet=99999&mma=0&fml=a&fq=Monthly&fam=avg&fgst=lin&fgsnd=2020-02-01&line_index=1&transformation=lin&vintage_date=2020-08-15&revision_date=2020-08-15&nd=1987-01-01\"\n",
    "    df = pd.read_csv(city_url, index_col='DATE')\n",
    "    dfs.append(df)\n",
    "df = pd.concat(dfs, axis=1)\n",
    "df.rename(columns={'PHXRNSA': 'Phoenix', 'ATXRSA': 'Atlanta', 'BOXRSA': 'Boston', 'NYXRSA': 'New York', 'DAXRSA': 'Dallas', 'SEXRNSA': 'Seattle', 'CHXRSA': 'Chicago', 'MIXRNSA': 'Miami', 'POXRSA': 'Portland', 'CEXRSA': 'Cleveland', 'WDXRSA': 'Washington D.C.', 'DNXRSA': 'Denver', 'CSUSHPISA': 'U.S.A'}, inplace=True)\n",
    "df"
   ]
  },
  {
   "cell_type": "code",
   "execution_count": null,
   "metadata": {},
   "outputs": [],
   "source": [
    "cities = df.columns.tolist()\n",
    "def myplot(city):\n",
    "    return df.hvplot(x='DATE', y=city, rot=90, width = (1000), height = (500), title = 'Housing price data by city over the last 10 years')"
   ]
  },
  {
   "cell_type": "code",
   "execution_count": null,
   "metadata": {},
   "outputs": [],
   "source": [
    "pn.interact(myplot, city=cities)"
   ]
  },
  {
   "cell_type": "code",
   "execution_count": null,
   "metadata": {},
   "outputs": [],
   "source": [
    "#In Order to make an Apples to Apples comparison we must convert the data from FRED to a percent change, the dates not alligning correctly will be dealt with below\n",
    "usa_housing_market = pd.DataFrame(df, columns=['U.S.A'])\n",
    "usa_house_pct = usa_housing_market.pct_change()\n",
    "usa_house_pct.reset_index(inplace = True)\n",
    "usa_house_pct.head()"
   ]
  },
  {
   "cell_type": "code",
   "execution_count": null,
   "metadata": {},
   "outputs": [],
   "source": [
    "from dotenv import load_dotenv\n",
    "load_dotenv()\n",
    "#KEYS\n",
    "alpaca_api_key = ('PKETZDKWTVEJJ92OHW4G')\n",
    "alpaca_secret_key = ('pFsAVawMY6IEB82q2CwJKhQZi8dDTDywkNjCb5cW')\n",
    "api = tradeapi.REST(alpaca_api_key, alpaca_secret_key, api_version='v2')"
   ]
  },
  {
   "cell_type": "code",
   "execution_count": null,
   "metadata": {},
   "outputs": [],
   "source": [
    "ticker = [\"SPY\"]\n",
    "timeframe = \"1D\"\n",
    "start_date = pd.Timestamp('2010-01-01', tz='America/New_York').isoformat()\n",
    "end_date = pd.Timestamp('2020-05-01', tz='America/New_York').isoformat()\n",
    "\n",
    "#calling 2010's top ten companies by size ticker\n",
    "df_spy = api.get_barset(\n",
    "    ticker,\n",
    "    timeframe,\n",
    "    limit=None,\n",
    "    start=start_date,\n",
    "    end=end_date,\n",
    "    after=None,\n",
    "    until=None,\n",
    ").df\n",
    "\n",
    "# Only comparing closing value\n",
    "df_spy = df_spy.drop(\n",
    "    columns=['open', 'high', 'low', 'volume'],\n",
    "    level=1\n",
    ")\n",
    "#Allows the data to reflect the average of a month and post it to a day at the at the end for comparison against housing data.\n",
    "df_spy.index = df_spy.index.date\n",
    "df_spy.reset_index(inplace = True)\n",
    "df_spy.rename(columns={'index': 'Date'}, inplace= True)\n",
    "dfspy = df_spy.set_index('Date')\n",
    "dfspy.index = pd.to_datetime(dfspy.index)\n",
    "monthly_spy = dfspy['SPY'].resample('M').mean()\n",
    "monthly_spy"
   ]
  },
  {
   "cell_type": "code",
   "execution_count": null,
   "metadata": {},
   "outputs": [],
   "source": [
    "monthly_spy.hvplot(width = (1000), height = (500), title = 'SPY by month for the last decade')"
   ]
  },
  {
   "cell_type": "code",
   "execution_count": null,
   "metadata": {},
   "outputs": [],
   "source": [
    "#applying the pct_change allows for that apples to apples comparison mentioned above.\n",
    "spy_pct = monthly_spy.pct_change()\n",
    "spy_pct.head()"
   ]
  },
  {
   "cell_type": "code",
   "execution_count": null,
   "metadata": {},
   "outputs": [],
   "source": [
    "#Joining the two dataframes to compare a high level look at the stock market to a high level look at the housing market, the dates need to match up. We will stick with the housing dates for clairty, stock data being 1 day off will not affect accuracy.\n",
    "Housing_vs_Stocks = pd.concat([usa_house_pct.reset_index(drop=True),spy_pct.reset_index(drop=True)], axis=1)\n",
    "Housing_vs_Stocks = Housing_vs_Stocks.set_index('DATE')\n",
    "Housing_vs_Stocks.rename(columns={'U.S.A.':'US Housing Maket','close': 'Stock Index'}, inplace= True)\n",
    "Housing_vs_Stocks.head()"
   ]
  },
  {
   "cell_type": "code",
   "execution_count": null,
   "metadata": {},
   "outputs": [],
   "source": [
    "#From this graph we can see the stock market has outpaced the housing market on average, despite the volatility.\n",
    "cumulative_returns = (1 + Housing_vs_Stocks).cumprod()\n",
    "cumulative_returns.hvplot(y=['U.S.A', 'Stock Index'],width = (1000), height = (500), xticks = (10),\n",
    "             value_label='Observed Cumulative Returns')"
   ]
  },
  {
   "cell_type": "code",
   "execution_count": null,
   "metadata": {},
   "outputs": [],
   "source": [
    "#From the above graph vlatility appears to be the name of the game for the stock market. Lets double check. \n",
    "monthly_std = Housing_vs_Stocks.std()\n",
    "monthly_std_visule = (1 + monthly_std).cumprod()\n",
    "monthly_std_visule.hvplot.scatter(title= 'Volatility comparison')"
   ]
  },
  {
   "cell_type": "code",
   "execution_count": null,
   "metadata": {},
   "outputs": [],
   "source": [
    "def housing_vs_stock():\n",
    "    \"\"\"Who performs better\"\"\"\n",
    "    h_v_s = cumulative_returns.hvplot(\n",
    "        x=\"DATE\",\n",
    "        y=['U.S.A', 'Stock Index'],\n",
    "        title = 'Observed Cumulative Returns',\n",
    "        width = (1000), \n",
    "        height = (500),\n",
    "    ).opts(yformatter=\"%.0f\")\n",
    "    return h_v_s\n",
    "\n",
    "Housing_Market = pn.interact(myplot, city=cities)\n",
    "Monthly_Market_Analysis = pn.Row(housing_vs_stock())\n",
    "\n",
    "title = pn.pane.Markdown(\"Housing VS Market\")\n",
    "welcome = pn.pane.Markdown(\"A simple dashboard dawning complext questions\")\n",
    "\n",
    "Housing_Market = pn.Tabs(\n",
    "    ('Housing Sales Prive AVG by Month', Housing_Market),\n",
    "    ('Housing Price Returns VS The Market', Monthly_Market_Analysis),\n",
    "(\n",
    "Dashboard=pn.Column(pn.Row(title), Housing_Market, width=900)\n",
    "Dashboard.servable()"
   ]
  },
  {
   "cell_type": "code",
   "execution_count": null,
   "metadata": {},
   "outputs": [],
   "source": []
  },
  {
   "cell_type": "code",
   "execution_count": null,
   "metadata": {},
   "outputs": [],
   "source": []
  }
 ],
 "metadata": {
  "kernelspec": {
   "display_name": "Python 3",
   "language": "python",
   "name": "python3"
  },
  "language_info": {
   "codemirror_mode": {
    "name": "ipython",
    "version": 3
   },
   "file_extension": ".py",
   "mimetype": "text/x-python",
   "name": "python",
   "nbconvert_exporter": "python",
   "pygments_lexer": "ipython3",
   "version": "3.7.7"
  }
 },
 "nbformat": 4,
 "nbformat_minor": 4
}
